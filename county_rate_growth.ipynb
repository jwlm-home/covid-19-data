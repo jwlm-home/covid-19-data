{
 "cells": [
  {
   "cell_type": "code",
   "execution_count": 1,
   "metadata": {},
   "outputs": [],
   "source": [
    "import pandas as pd\n",
    "import sklearn as skl\n",
    "import tensorflow as tf\n",
    "import numpy as np\n",
    "\n",
    "import matplotlib.pyplot as plt\n",
    "import matplotlib.patches as patches\n",
    "\n",
    "from imageio import mimwrite\n",
    "\n",
    "from sklearn.preprocessing import (\n",
    "    StandardScaler, QuantileTransformer)\n",
    "\n",
    "import cartopy\n",
    "import cartopy.crs as ccrs\n",
    "\n",
    "from shapely.geometry import Polygon\n",
    "from shapely.ops import cascaded_union\n",
    "\n",
    "from datetime import date\n",
    "\n",
    "import tensorflow as tf\n",
    "\n",
    "from scipy.interpolate import UnivariateSpline"
   ]
  },
  {
   "cell_type": "code",
   "execution_count": 2,
   "metadata": {},
   "outputs": [],
   "source": [
    "nytimes_data = pd.read_csv('~/nytimes/covid-19-data/us-counties.csv')\n",
    "\n",
    "nytimes_data = nytimes_data.iloc[np.where(np.isfinite(nytimes_data[['fips']].values))[0]]\n",
    "\n",
    "nytimes_data['predecessor_date'] = (\n",
    "    [date.fromisoformat(x).toordinal() - 1 for x in nytimes_data['date']])"
   ]
  },
  {
   "cell_type": "code",
   "execution_count": 3,
   "metadata": {},
   "outputs": [],
   "source": [
    "nytimes_data['state_id'] = 1000. * (nytimes_data[['fips']] // 1000)"
   ]
  },
  {
   "cell_type": "code",
   "execution_count": 5,
   "metadata": {},
   "outputs": [],
   "source": [
    "## From US Census Bureau records\n",
    "county_reader = cartopy.io.shapereader.Reader('./cb_2018_us_county_500k.shp')\n",
    "counties = list(county_reader.records())\n",
    "county_indices = pd.DataFrame({\n",
    "    'GEOID' : [float(counties[i].attributes['GEOID']) for i in range(len(counties))],\n",
    "    'index' : [i for i in range(len(counties))]})"
   ]
  },
  {
   "cell_type": "code",
   "execution_count": 6,
   "metadata": {},
   "outputs": [],
   "source": [
    "with open('./co-est2019-alldata.csv', 'r') as fd:\n",
    "    a = pd.read_csv('./co-est2019-alldata.csv', encoding='latin1')\n",
    "\n",
    "all_pops = pd.DataFrame({\n",
    "    'POP' : a[['POPESTIMATE2019']].values.reshape(-1),\n",
    "    'fips' : a[['STATE']].values.reshape(-1) * 1000. + a['COUNTY'].values.reshape(-1)\n",
    "})\n",
    "\n",
    "state_pops = all_pops[a['COUNTY'].values.reshape(-1) == 0]\n",
    "county_pops = all_pops[a['COUNTY'].values.reshape(-1) != 0]"
   ]
  },
  {
   "cell_type": "code",
   "execution_count": 7,
   "metadata": {},
   "outputs": [],
   "source": [
    "extended_data = nytimes_data.merge(county_pops, left_on='fips', right_on='fips')"
   ]
  },
  {
   "cell_type": "code",
   "execution_count": 8,
   "metadata": {},
   "outputs": [],
   "source": [
    "extended_data['normalized_cases'] = extended_data[['cases']].values.reshape(-1) / extended_data[['POP']].values.reshape(-1)\n",
    "extended_data['normalized_deaths'] = extended_data[['deaths']].values.reshape(-1) / extended_data[['POP']].values.reshape(-1)"
   ]
  },
  {
   "cell_type": "code",
   "execution_count": 9,
   "metadata": {},
   "outputs": [],
   "source": [
    "county_data = extended_data.groupby(['state', 'county', 'predecessor_date']).sum()"
   ]
  },
  {
   "cell_type": "code",
   "execution_count": 10,
   "metadata": {},
   "outputs": [
    {
     "name": "stderr",
     "output_type": "stream",
     "text": [
      "/Users/johnmerrill/anaconda3/lib/python3.7/site-packages/ipykernel_launcher.py:17: RuntimeWarning: invalid value encountered in true_divide\n"
     ]
    }
   ],
   "source": [
    "def build_county_stats_dict():\n",
    "    county_stats_dict = {}\n",
    "    for state_name in np.unique(county_data.index.get_level_values(0)):\n",
    "        restricted_county_data = county_data[county_data.index.get_level_values(0) == state_name]\n",
    "        restricted_county_data = restricted_county_data[restricted_county_data[['cases']].values >= 20]\n",
    "    \n",
    "        for county_name in np.unique(restricted_county_data.index.get_level_values(1)):\n",
    "            county_cases = restricted_county_data[restricted_county_data.index.get_level_values(1) == county_name]\n",
    "        \n",
    "            if county_cases.shape[0] < 20:\n",
    "                continue\n",
    "            \n",
    "            x = county_cases.index.get_level_values(2).values.reshape(-1)[1:]\n",
    "            y_base = county_cases[['normalized_cases']].cummax().values.reshape(-1)\n",
    "            y = y_base[1:] - y_base[:-1]\n",
    "            y_max = np.max(y)\n",
    "            y = y / y_max\n",
    "            \n",
    "            spl = UnivariateSpline(x, y)\n",
    "            spl.set_smoothing_factor(10)\n",
    "                \n",
    "            xs = np.arange(np.min(x) + 1, np.max(x) + 1)\n",
    "            ys = spl(xs)\n",
    "            dydxs = spl.derivative(1)(xs)\n",
    "            \n",
    "            base_fips = np.empty([x.shape[0]])\n",
    "            base_fips[:] = county_cases[['fips']].values.reshape(-1)[0]\n",
    "            smoothed_fips = np.empty([xs.shape[0]])\n",
    "            smoothed_fips[:] = county_cases[['fips']].values.reshape(-1)[0]\n",
    "                \n",
    "            county_stats_dict[int(county_cases[['fips']].values.reshape(-1)[0])] = (            \n",
    "                {\n",
    "                    'base_diffs' : np.vstack((base_fips, x, y)).T, \n",
    "                    'smoothed_diffs' : np.vstack((smoothed_fips, xs, ys)).T, \n",
    "                    'smoothed_diff_derivs': np.vstack((smoothed_fips, xs, dydxs)).T,\n",
    "                })\n",
    "            \n",
    "    return county_stats_dict\n",
    "\n",
    "county_stats_dict = build_county_stats_dict()"
   ]
  },
  {
   "cell_type": "code",
   "execution_count": 11,
   "metadata": {},
   "outputs": [],
   "source": [
    "base_diffs_array = pd.DataFrame(\n",
    "    np.vstack([county_stats_dict[fips]['base_diffs'] \n",
    "               for fips in list(county_stats_dict.keys())]))\n",
    "base_diffs_array.columns = ['fips', 'x', 'y']\n",
    "\n",
    "smoothed_diffs_array = pd.DataFrame(\n",
    "    np.vstack([county_stats_dict[fips]['smoothed_diffs'] \n",
    "               for fips in list(county_stats_dict.keys())]))\n",
    "smoothed_diffs_array.columns = ['fips', 'xs', 'ys']\n",
    "\n",
    "smoothed_diff_derivs_array = pd.DataFrame(\n",
    "    np.vstack([county_stats_dict[fips]['smoothed_diff_derivs'] \n",
    "               for fips in list(county_stats_dict.keys())]))\n",
    "smoothed_diff_derivs_array.columns = ['fips', 'xs', 'dysdxs']"
   ]
  },
  {
   "cell_type": "code",
   "execution_count": 58,
   "metadata": {},
   "outputs": [],
   "source": [
    "class plot_normalizer:\n",
    "    def __init__(self, base_data):\n",
    "        valid_data = (\n",
    "            base_data.values[np.isfinite(base_data).values])\n",
    "        \n",
    "        self.positive_normalizer = (\n",
    "            QuantileTransformer(n_quantiles=100))\n",
    "        self.negative_normalizer = (\n",
    "            QuantileTransformer(n_quantiles=100))\n",
    "        \n",
    "        self.positive_normalizer.fit(\n",
    "            valid_data[valid_data > 0].reshape(-1, 1))\n",
    "        self.negative_normalizer.fit(\n",
    "            valid_data[valid_data < 0].reshape(-1, 1))\n",
    "        \n",
    "    def transform(self, base_data):\n",
    "        data = base_data.reshape(-1, 1)\n",
    "        positive_base = (\n",
    "            self.positive_normalizer.transform(data))\n",
    "        negative_base = (\n",
    "            self.negative_normalizer.transform(data))\n",
    "        \n",
    "        positive = (positive_base + 1) / 2\n",
    "        negative = negative_base / 2\n",
    "        \n",
    "        retval = np.empty(data.shape)\n",
    "        retval[:] = 0.5\n",
    "        retval[data > 0] = positive[data > 0]\n",
    "        ##retval[data < 0] = negative[data < 0]\n",
    "        retval[data < 0] = 0.45\n",
    "        \n",
    "        return retval"
   ]
  },
  {
   "cell_type": "code",
   "execution_count": 59,
   "metadata": {},
   "outputs": [],
   "source": [
    "base_diffs_normalizer = QuantileTransformer(n_quantiles=100)\n",
    "base_diffs_normalizer.fit(\n",
    "    base_diffs_array['y'].values[\n",
    "        np.isfinite(base_diffs_array['y'].values)].reshape(-1, 1))\n",
    "\n",
    "smoothed_diffs_normalizer = QuantileTransformer(n_quantiles=100)\n",
    "smoothed_diffs_normalizer.fit(\n",
    "    smoothed_diffs_array['ys'].values[\n",
    "        np.isfinite(smoothed_diffs_array['ys'].values)].reshape(-1, 1))\n",
    "\n",
    "smoothed_diff_derivs_normalizer = (\n",
    "    plot_normalizer(smoothed_diff_derivs_array))"
   ]
  },
  {
   "cell_type": "code",
   "execution_count": 60,
   "metadata": {},
   "outputs": [],
   "source": [
    "def plot_county_cases(result_array, date):\n",
    "    working_cmap = plt.get_cmap('coolwarm')\n",
    "    \n",
    "    restricted_result_array_precursor = (\n",
    "        result_array[result_array['xs'].values.reshape(-1) == date]).merge(\n",
    "        county_indices, left_on='fips', right_on='GEOID')\n",
    "    \n",
    "    good_rows = (\n",
    "        np.setdiff1d(\n",
    "            np.arange(restricted_result_array_precursor.shape[0]),\n",
    "            np.where(~np.isfinite(restricted_result_array_precursor))[0]))\n",
    "    \n",
    "    restricted_result_array = (\n",
    "        restricted_result_array_precursor.values[good_rows, :])\n",
    "        \n",
    "    central_lat = 37.5\n",
    "    central_lon = -96\n",
    "    extent = [-120, -70, 23, 50.5]\n",
    "    central_lon = np.mean(extent[:2])\n",
    "    central_lat = np.mean(extent[2:])\n",
    "\n",
    "    fig, ax = plt.subplots(figsize=(24, 12))\n",
    "    ax = plt.axes(projection=ccrs.AlbersEqualArea(central_lon, central_lat))\n",
    "    ax.set_extent(extent)\n",
    "\n",
    "    ax.add_feature(cartopy.feature.OCEAN)\n",
    "    ax.add_feature(cartopy.feature.LAND, edgecolor='black')\n",
    "    ax.add_feature(cartopy.feature.LAKES, edgecolor='black')\n",
    "    ax.add_feature(cartopy.feature.BORDERS)\n",
    "        \n",
    "    transformed_scores = (\n",
    "        smoothed_diff_derivs_normalizer.transform(\n",
    "            restricted_result_array[:, 2].reshape(-1, 1)))\n",
    "    \n",
    "    colors = [\n",
    "        working_cmap(transformed_scores[i, 0])\n",
    "        for i in range(restricted_result_array.shape[0])]\n",
    "    \n",
    "    ax.add_feature(\n",
    "        cartopy.feature.ShapelyFeature(\n",
    "            [counties[int(restricted_result_array[int(i), -1])].geometry \n",
    "             for i in range(restricted_result_array.shape[0])], \n",
    "            cartopy.crs.PlateCarree(),\n",
    "            facecolor=colors))    \n",
    "    ax.add_feature(cartopy.feature.STATES, edgecolor='lightgrey')\n",
    "\n",
    "    fig.canvas.draw()\n",
    "    image = np.frombuffer(fig.canvas.tostring_rgb(), dtype='uint8')\n",
    "    image = image.reshape(fig.canvas.get_width_height()[::-1] + (3,))\n",
    "    \n",
    "    plt.close()\n",
    "    \n",
    "    return image"
   ]
  },
  {
   "cell_type": "code",
   "execution_count": 61,
   "metadata": {},
   "outputs": [],
   "source": [
    "county_cases = [\n",
    "    plot_county_cases(smoothed_diff_derivs_array, image_date) \n",
    "    for image_date in np.unique(smoothed_diff_derivs_array['xs'].values)\n",
    "]"
   ]
  },
  {
   "cell_type": "code",
   "execution_count": 62,
   "metadata": {},
   "outputs": [],
   "source": [
    "mimwrite('./county_cases.gif', \n",
    "         county_cases,\n",
    "         fps=2,\n",
    "         subrectangles=True,\n",
    "         loop=1)"
   ]
  },
  {
   "cell_type": "code",
   "execution_count": null,
   "metadata": {},
   "outputs": [],
   "source": []
  }
 ],
 "metadata": {
  "kernelspec": {
   "display_name": "Python 3",
   "language": "python",
   "name": "python3"
  },
  "language_info": {
   "codemirror_mode": {
    "name": "ipython",
    "version": 3
   },
   "file_extension": ".py",
   "mimetype": "text/x-python",
   "name": "python",
   "nbconvert_exporter": "python",
   "pygments_lexer": "ipython3",
   "version": "3.7.4"
  }
 },
 "nbformat": 4,
 "nbformat_minor": 4
}
